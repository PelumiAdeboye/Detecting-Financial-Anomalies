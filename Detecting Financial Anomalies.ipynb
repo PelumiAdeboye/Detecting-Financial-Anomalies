{
 "cells": [
  {
   "cell_type": "code",
   "execution_count": null,
   "metadata": {},
   "outputs": [],
   "source": [
    "# Import the necessary libraries\n",
    "import pandas as pd\n",
    "from sklearn.ensemble import IsolationForest \n",
    "from sklearn.neighbors import LocalOutlierFactor \n",
    "\n",
    "\n",
    "# Load the sample financial transaction data \n",
    "df = pd.read_csv(\"transactions_data.csv\")\n",
    "\n",
    "\n",
    "# Separate out the features and labels of the dataset \n",
    "X = df[['amount','payment_method','location']]  # features of dataset \n",
    "y = df['fraud']   # labels of dataset\n",
    "\n",
    "\n",
    "# Initialize Isolation Forest and Local Outlier Factor models for anomaly detection  \n",
    "model1 = IsolationForest(contamination=0.1)    # contamination is set to 0.1 i.e 10% outliers are expected in data \t\t\t\t\t      # if you don't know, use 0.2 or 0.3 as a general rule of thumb  \t     \n",
    "\n",
    "model2 = LocalOutlierFactor(n_neighbors=20, contamination=0.1)\n",
    "\n",
    "                                               # n_neighbors is set to 20 i.e it will compare current point with its 20 nearest neighbors  \n",
    "\n",
    "                                               # Fit both models on the data\n",
    "model1.fit(X) \n",
    "model2.fit(X) \n",
    "\n",
    "\n",
    "# Predict anomalies using both models\n",
    "predictions1 = model1.predict(X)   # returns 1 for normal points and -1 for anomalous points \n",
    "predictions2 = model2.predict(X)   # returns 1 for normal points and -1 for anomalous points\n",
    "\n",
    "                                   # Combine predictions from both models to get final prediction \n",
    "final_prediction = [0 if (x==y) else 1 for x,y in zip(predictions1, predictions2)]\n",
    "\n",
    "                                   \n",
    "# Assign the predicted labels to original dataset \n",
    "df['anomaly'] = final_prediction\n",
    "\n",
    "# Print out the results \n",
    "print (df[df['anomaly'] == 1])"
   ]
  }
 ],
 "metadata": {
  "language_info": {
   "name": "python"
  },
  "orig_nbformat": 4
 },
 "nbformat": 4,
 "nbformat_minor": 2
}
